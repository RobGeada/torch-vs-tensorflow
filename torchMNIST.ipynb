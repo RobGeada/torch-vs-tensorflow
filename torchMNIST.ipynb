{
 "cells": [
  {
   "cell_type": "markdown",
   "metadata": {},
   "source": [
    "# Torch"
   ]
  },
  {
   "cell_type": "code",
   "execution_count": 2,
   "metadata": {},
   "outputs": [],
   "source": [
    "import numpy as np\n",
    "\n",
    "import torch\n",
    "import torch.nn as nn\n",
    "import torch.nn.functional as F\n",
    "import torch.optim as optim\n",
    "from torchvision import datasets, transforms\n",
    "import torchvision.models as models\n",
    "\n",
    "import matplotlib.pyplot as plt\n",
    "import re\n",
    "%store -r __wideboy"
   ]
  },
  {
   "cell_type": "code",
   "execution_count": 3,
   "metadata": {},
   "outputs": [
    {
     "data": {
      "text/html": [
       "<style>.container { width:100% !important; }</style>"
      ],
      "text/plain": [
       "<IPython.core.display.HTML object>"
      ]
     },
     "metadata": {},
     "output_type": "display_data"
    }
   ],
   "source": [
    "__wideboy"
   ]
  },
  {
   "cell_type": "markdown",
   "metadata": {},
   "source": [
    "# A General Similarity\n",
    "### Torch"
   ]
  },
  {
   "cell_type": "code",
   "execution_count": 18,
   "metadata": {},
   "outputs": [
    {
     "name": "stdout",
     "output_type": "stream",
     "text": [
      "tensor([  8,  20,  36])\n",
      "tensor(32)\n"
     ]
    }
   ],
   "source": [
    "a = torch.tensor([1,2,3])\n",
    "b = torch.tensor([4,5,6])\n",
    "out1 = (a+a)*b\n",
    "out2 = a.dot(b)\n",
    "\n",
    "print(out1)\n",
    "print(out2)"
   ]
  },
  {
   "cell_type": "markdown",
   "metadata": {},
   "source": [
    "# A More Complex Model\n",
    "### Torch CNN"
   ]
  },
  {
   "cell_type": "markdown",
   "metadata": {},
   "source": [
    "![title](modelClean.png)"
   ]
  },
  {
   "cell_type": "markdown",
   "metadata": {},
   "source": [
    "# Data Loaders\n",
    "### Torch"
   ]
  },
  {
   "cell_type": "code",
   "execution_count": 6,
   "metadata": {},
   "outputs": [],
   "source": [
    "def loadData(data_func,directory,in_size,batch_size):\n",
    "    train= data_func(directory, \n",
    "        train=True, \n",
    "        download=True,\n",
    "        transform=transforms.Compose([\n",
    "            transforms.Resize((in_size,in_size)),\n",
    "            transforms.ToTensor(),\n",
    "            transforms.Normalize((0,), (1,))]\n",
    "            ))\n",
    "    test= data_func(directory,\n",
    "        train=False,\n",
    "        download=False,\n",
    "        transform=transforms.Compose([\n",
    "            transforms.Resize((in_size,in_size)),\n",
    "            transforms.ToTensor(),\n",
    "            transforms.Normalize((0,), (1,))]\n",
    "            ))\n",
    "                          \n",
    "    train_loader = torch.utils.data.DataLoader(train,batch_size=batch_size, shuffle=True)\n",
    "    test_loader  = torch.utils.data.DataLoader(test,batch_size=batch_size, shuffle=False)\n",
    "    return train_loader,test_loader"
   ]
  },
  {
   "cell_type": "markdown",
   "metadata": {},
   "source": [
    "# Model Helpers\n",
    "### Torch"
   ]
  },
  {
   "cell_type": "code",
   "execution_count": 7,
   "metadata": {},
   "outputs": [],
   "source": [
    "class nn_View(nn.Module):\n",
    "    def __init__(self):\n",
    "        super(nn_View, self).__init__()\n",
    "    def forward(self, x):\n",
    "        return x.view(x.size()[0], -1)\n",
    "    \n",
    "def getDimStr(x):\n",
    "    return \"(\"+str(x.shape).replace(\"torch.Size([1,\",\"\")[:-2].strip()+\")\"\n",
    "\n",
    "#get clean layer name\n",
    "def getLabel(label):\n",
    "    funcName = label.split(\"(\")[0]\n",
    "    nums = re.findall(r'\\d+',label)\n",
    "\n",
    "    if \"Conv\" in label:\n",
    "        return funcName+\"_\"+nums[2]\n",
    "    elif \"Linear\" in label:\n",
    "        return funcName+\"_\"+nums[0]\n",
    "    else:\n",
    "        return funcName   "
   ]
  },
  {
   "cell_type": "markdown",
   "metadata": {},
   "source": [
    "# Model Definitions\n",
    "### Torch"
   ]
  },
  {
   "cell_type": "code",
   "execution_count": 8,
   "metadata": {},
   "outputs": [],
   "source": [
    "class Net(nn.Module):\n",
    "    def __init__(self):\n",
    "        super(Net, self).__init__()\n",
    "        \n",
    "        self.params = nn.ModuleList()\n",
    "        \n",
    "        #CONV 1\n",
    "        self.params+= [nn.Conv2d(1, 16, kernel_size=3,padding=1),\n",
    "                       nn.BatchNorm2d(16),\n",
    "                       nn.ReLU(inplace=True),\n",
    "                       nn.MaxPool2d(4)]\n",
    "        \n",
    "        #CONV 2\n",
    "        self.params+= [nn.Conv2d(16, 32, kernel_size=3,padding=1),\n",
    "                       nn.BatchNorm2d(32),\n",
    "                       nn.ReLU(inplace=True),\n",
    "                       nn.MaxPool2d(4)]\n",
    "\n",
    "        #RESHAPE\n",
    "        self.params+= [nn_View()]\n",
    "        \n",
    "        #FC \n",
    "        self.params+= [nn.Dropout(),\n",
    "                       nn.Linear(32, 32),\n",
    "                       nn.ReLU(inplace=True)]\n",
    "        \n",
    "        #OUTPUT\n",
    "        self.params+= [nn.Linear(32, 10),\n",
    "                       nn.Softmax(dim=1)]\n",
    "    \n",
    "    def forward(self,x):\n",
    "        for layer in self.params:\n",
    "            x=layer(x)\n",
    "        return x\n",
    "    \n",
    "    def _initialize_weights(self):\n",
    "        for m in self.modules():\n",
    "            if isinstance(m, nn.Conv2d):\n",
    "                nn.init.kaiming_normal_(m.weight, mode='fan_out', nonlinearity='relu')\n",
    "                if m.bias is not None:\n",
    "                    nn.init.constant_(m.bias, 0)\n",
    "            elif isinstance(m, nn.BatchNorm2d):\n",
    "                nn.init.constant_(m.weight, 1)\n",
    "                nn.init.constant_(m.bias, 0)\n",
    "            elif isinstance(m, nn.Linear):\n",
    "                nn.init.normal_(m.weight, 0, 0.01)\n",
    "                nn.init.constant_(m.bias, 0)\n",
    "                \n",
    "    def show(self,inSize):\n",
    "        print(\"\\n===MODEL===\")\n",
    "        rowFormat=\"{:<15}{:<15} -> {:<15}{:<15}\"\n",
    "        print(rowFormat.format(\"Layer Name\",\"Input Size\",\"Output Size\",\"# Params\"))\n",
    "        print(\"============================================================\")\n",
    "        x=torch.zeros(inSize)\n",
    "        paramCounts = []\n",
    "\n",
    "        for layer in model.params:\n",
    "            paramCount = sum([p.numel() for p in layer.parameters()])\n",
    "            paramCounts.append(paramCount)\n",
    "            labelStr  = getLabel(str(layer))+\":\"\n",
    "            startSize = getDimStr(x)\n",
    "            x=layer(x)\n",
    "            print(rowFormat.format(labelStr,startSize,getDimStr(x),paramCount))\n",
    "\n",
    "            if \"MaxPool\" in labelStr:\n",
    "                print()\n",
    "                \n",
    "        print(\"============================================================\")\n",
    "        print(\"Total Parameters:\",\"{:,}\".format(sum(paramCounts)))\n",
    "        print(\"============================================================\")\n",
    "        print()"
   ]
  },
  {
   "cell_type": "markdown",
   "metadata": {},
   "source": [
    "# Train/Test Functions\n",
    "### Torch"
   ]
  },
  {
   "cell_type": "code",
   "execution_count": 9,
   "metadata": {},
   "outputs": [],
   "source": [
    "def train(model, device, train_loader, criterion, optimizer, epoch):\n",
    "    model.train()\n",
    "    print()\n",
    "    losses=[]\n",
    "    for batch_idx, (data, target) in enumerate(train_loader):\n",
    "\n",
    "        #train step\n",
    "        data, target = data.to(device), target.to(device)\n",
    "        optimizer.zero_grad()\n",
    "        output = model.forward(data)\n",
    "        loss = criterion(output, target)\n",
    "        loss.backward()\n",
    "        optimizer.step()\n",
    "        losses.append(float(loss))\n",
    "\n",
    "        if batch_idx % 5 == 0:\n",
    "            print('{:<15}{:<5} [{:>6}/{:<6} ({:>3.0f}%)]    Loss: {:<10.6f}'.format(\n",
    "                \"Train Epoch:\",epoch, batch_idx * len(data), \n",
    "                len(train_loader.dataset),100. * batch_idx / len(train_loader), loss.item()),\n",
    "                end=\"\\r\",flush=True)\n",
    "    return losses\n",
    "\n",
    "#model test       \n",
    "def test(model, device, test_loader,epoch):\n",
    "    model.eval()\n",
    "    test_loss= 0\n",
    "    corrects = 0\n",
    "    with torch.no_grad():\n",
    "        for data, target in test_loader:\n",
    "            \n",
    "            data, target = data.to(device), target.to(device)\n",
    "            output=model.forward(data)\n",
    "            test_loss += F.nll_loss(output, target, size_average=False).item()\n",
    "            pred = output.max(1, keepdim=True)[1]\n",
    "            corrects += pred.eq(target.view_as(pred)).sum().item()\n",
    "\n",
    "    test_loss = np.round(test_loss/len(test_loader.dataset),2)\n",
    "            \n",
    "    print()\n",
    "    print('{:<15}{:<5} [{:>6}/{:<6} ({:>3.0f}%)]    Loss: {:<10.6f}'.format(\n",
    "        \"Test Epoch:\",epoch, corrects,\n",
    "        len(test_loader.dataset),\n",
    "        100.* corrects/len(test_loader.dataset),\n",
    "        test_loss.item()),\n",
    "        end=\"\\r\",flush=True)\n",
    "\n",
    "    return test_loss"
   ]
  },
  {
   "cell_type": "markdown",
   "metadata": {},
   "source": [
    "# Set Parameters\n",
    "### Torch"
   ]
  },
  {
   "cell_type": "code",
   "execution_count": 10,
   "metadata": {},
   "outputs": [],
   "source": [
    "epochs = 10\n",
    "device = torch.device('cpu')\n",
    "lr = .05\n",
    "momentum=.9\n",
    "batch_size = 200\n",
    "in_size = 16\n",
    "train_losses,test_losses = [],[]\n",
    "\n",
    "\n",
    "train_loader,test_loader = loadData(datasets.MNIST,\"dataMNIST\",batch_size=batch_size,in_size=in_size)"
   ]
  },
  {
   "cell_type": "markdown",
   "metadata": {},
   "source": [
    "# Train Loop\n",
    "### Torch"
   ]
  },
  {
   "cell_type": "code",
   "execution_count": 11,
   "metadata": {},
   "outputs": [
    {
     "name": "stdout",
     "output_type": "stream",
     "text": [
      "\n",
      "===MODEL===\n",
      "Layer Name     Input Size      -> Output Size    # Params       \n",
      "============================================================\n",
      "Conv2d_16:     (1, 16, 16)     -> (16, 16, 16)   160            \n",
      "BatchNorm2d:   (16, 16, 16)    -> (16, 16, 16)   32             \n",
      "ReLU:          (16, 16, 16)    -> (16, 16, 16)   0              \n",
      "MaxPool2d:     (16, 16, 16)    -> (16, 4, 4)     0              \n",
      "\n",
      "Conv2d_32:     (16, 4, 4)      -> (32, 4, 4)     4640           \n",
      "BatchNorm2d:   (32, 4, 4)      -> (32, 4, 4)     64             \n",
      "ReLU:          (32, 4, 4)      -> (32, 4, 4)     0              \n",
      "MaxPool2d:     (32, 4, 4)      -> (32, 1, 1)     0              \n",
      "\n",
      "nn_View:       (32, 1, 1)      -> (32)           0              \n",
      "Dropout:       (32)            -> (32)           0              \n",
      "Linear_32:     (32)            -> (32)           1056           \n",
      "ReLU:          (32)            -> (32)           0              \n",
      "Linear_32:     (32)            -> (10)           330            \n",
      "Softmax:       (10)            -> (10)           0              \n",
      "============================================================\n",
      "Total Parameters: 6,282\n",
      "============================================================\n",
      "\n",
      "===TRAINING===\n",
      "\n",
      "Train Epoch:   0     [ 59000/60000  ( 98%)]    Loss: 1.869729  \n",
      "Test Epoch:    0     [  7618/10000  ( 76%)]    Loss: -0.730000 \n",
      "Train Epoch:   1     [ 45000/60000  ( 75%)]    Loss: 1.710129  \r"
     ]
    },
    {
     "ename": "KeyboardInterrupt",
     "evalue": "",
     "output_type": "error",
     "traceback": [
      "\u001b[0;31m---------------------------------------------------------------------------\u001b[0m",
      "\u001b[0;31mKeyboardInterrupt\u001b[0m                         Traceback (most recent call last)",
      "\u001b[0;32m<ipython-input-11-a45fbb95a223>\u001b[0m in \u001b[0;36m<module>\u001b[0;34m()\u001b[0m\n\u001b[1;32m      7\u001b[0m \u001b[0mprint\u001b[0m\u001b[0;34m(\u001b[0m\u001b[0;34m\"===TRAINING===\"\u001b[0m\u001b[0;34m)\u001b[0m\u001b[0;34m\u001b[0m\u001b[0m\n\u001b[1;32m      8\u001b[0m \u001b[0;32mfor\u001b[0m \u001b[0mepoch\u001b[0m \u001b[0;32min\u001b[0m \u001b[0mrange\u001b[0m\u001b[0;34m(\u001b[0m\u001b[0;36m0\u001b[0m\u001b[0;34m,\u001b[0m \u001b[0mepochs\u001b[0m \u001b[0;34m+\u001b[0m \u001b[0;36m1\u001b[0m\u001b[0;34m)\u001b[0m\u001b[0;34m:\u001b[0m\u001b[0;34m\u001b[0m\u001b[0m\n\u001b[0;32m----> 9\u001b[0;31m     \u001b[0mtrain_losses\u001b[0m\u001b[0;34m+=\u001b[0m\u001b[0mtrain\u001b[0m\u001b[0;34m(\u001b[0m\u001b[0mmodel\u001b[0m\u001b[0;34m,\u001b[0m\u001b[0mdevice\u001b[0m\u001b[0;34m,\u001b[0m \u001b[0mtrain_loader\u001b[0m\u001b[0;34m,\u001b[0m \u001b[0mcriterion\u001b[0m\u001b[0;34m,\u001b[0m \u001b[0moptimizer\u001b[0m\u001b[0;34m,\u001b[0m \u001b[0mepoch\u001b[0m\u001b[0;34m)\u001b[0m\u001b[0;34m\u001b[0m\u001b[0m\n\u001b[0m\u001b[1;32m     10\u001b[0m     \u001b[0mtest_losses\u001b[0m\u001b[0;34m.\u001b[0m\u001b[0mappend\u001b[0m\u001b[0;34m(\u001b[0m\u001b[0mtest\u001b[0m\u001b[0;34m(\u001b[0m\u001b[0mmodel\u001b[0m\u001b[0;34m,\u001b[0m\u001b[0mdevice\u001b[0m\u001b[0;34m,\u001b[0m\u001b[0mtest_loader\u001b[0m\u001b[0;34m,\u001b[0m\u001b[0mepoch\u001b[0m\u001b[0;34m)\u001b[0m\u001b[0;34m)\u001b[0m\u001b[0;34m\u001b[0m\u001b[0m\n",
      "\u001b[0;32m<ipython-input-9-d34e36d5b4d5>\u001b[0m in \u001b[0;36mtrain\u001b[0;34m(model, device, train_loader, criterion, optimizer, epoch)\u001b[0m\n\u001b[1;32m     10\u001b[0m         \u001b[0moutput\u001b[0m \u001b[0;34m=\u001b[0m \u001b[0mmodel\u001b[0m\u001b[0;34m.\u001b[0m\u001b[0mforward\u001b[0m\u001b[0;34m(\u001b[0m\u001b[0mdata\u001b[0m\u001b[0;34m)\u001b[0m\u001b[0;34m\u001b[0m\u001b[0m\n\u001b[1;32m     11\u001b[0m         \u001b[0mloss\u001b[0m \u001b[0;34m=\u001b[0m \u001b[0mcriterion\u001b[0m\u001b[0;34m(\u001b[0m\u001b[0moutput\u001b[0m\u001b[0;34m,\u001b[0m \u001b[0mtarget\u001b[0m\u001b[0;34m)\u001b[0m\u001b[0;34m\u001b[0m\u001b[0m\n\u001b[0;32m---> 12\u001b[0;31m         \u001b[0mloss\u001b[0m\u001b[0;34m.\u001b[0m\u001b[0mbackward\u001b[0m\u001b[0;34m(\u001b[0m\u001b[0;34m)\u001b[0m\u001b[0;34m\u001b[0m\u001b[0m\n\u001b[0m\u001b[1;32m     13\u001b[0m         \u001b[0moptimizer\u001b[0m\u001b[0;34m.\u001b[0m\u001b[0mstep\u001b[0m\u001b[0;34m(\u001b[0m\u001b[0;34m)\u001b[0m\u001b[0;34m\u001b[0m\u001b[0m\n\u001b[1;32m     14\u001b[0m         \u001b[0mlosses\u001b[0m\u001b[0;34m.\u001b[0m\u001b[0mappend\u001b[0m\u001b[0;34m(\u001b[0m\u001b[0mfloat\u001b[0m\u001b[0;34m(\u001b[0m\u001b[0mloss\u001b[0m\u001b[0;34m)\u001b[0m\u001b[0;34m)\u001b[0m\u001b[0;34m\u001b[0m\u001b[0m\n",
      "\u001b[0;32m/Library/Frameworks/Python.framework/Versions/3.6/lib/python3.6/site-packages/torch/tensor.py\u001b[0m in \u001b[0;36mbackward\u001b[0;34m(self, gradient, retain_graph, create_graph)\u001b[0m\n\u001b[1;32m     91\u001b[0m                 \u001b[0mproducts\u001b[0m\u001b[0;34m.\u001b[0m \u001b[0mDefaults\u001b[0m \u001b[0mto\u001b[0m\u001b[0;31m \u001b[0m\u001b[0;31m`\u001b[0m\u001b[0;31m`\u001b[0m\u001b[0;32mFalse\u001b[0m\u001b[0;31m`\u001b[0m\u001b[0;31m`\u001b[0m\u001b[0;34m.\u001b[0m\u001b[0;34m\u001b[0m\u001b[0m\n\u001b[1;32m     92\u001b[0m         \"\"\"\n\u001b[0;32m---> 93\u001b[0;31m         \u001b[0mtorch\u001b[0m\u001b[0;34m.\u001b[0m\u001b[0mautograd\u001b[0m\u001b[0;34m.\u001b[0m\u001b[0mbackward\u001b[0m\u001b[0;34m(\u001b[0m\u001b[0mself\u001b[0m\u001b[0;34m,\u001b[0m \u001b[0mgradient\u001b[0m\u001b[0;34m,\u001b[0m \u001b[0mretain_graph\u001b[0m\u001b[0;34m,\u001b[0m \u001b[0mcreate_graph\u001b[0m\u001b[0;34m)\u001b[0m\u001b[0;34m\u001b[0m\u001b[0m\n\u001b[0m\u001b[1;32m     94\u001b[0m \u001b[0;34m\u001b[0m\u001b[0m\n\u001b[1;32m     95\u001b[0m     \u001b[0;32mdef\u001b[0m \u001b[0mregister_hook\u001b[0m\u001b[0;34m(\u001b[0m\u001b[0mself\u001b[0m\u001b[0;34m,\u001b[0m \u001b[0mhook\u001b[0m\u001b[0;34m)\u001b[0m\u001b[0;34m:\u001b[0m\u001b[0;34m\u001b[0m\u001b[0m\n",
      "\u001b[0;32m/Library/Frameworks/Python.framework/Versions/3.6/lib/python3.6/site-packages/torch/autograd/__init__.py\u001b[0m in \u001b[0;36mbackward\u001b[0;34m(tensors, grad_tensors, retain_graph, create_graph, grad_variables)\u001b[0m\n\u001b[1;32m     87\u001b[0m     Variable._execution_engine.run_backward(\n\u001b[1;32m     88\u001b[0m         \u001b[0mtensors\u001b[0m\u001b[0;34m,\u001b[0m \u001b[0mgrad_tensors\u001b[0m\u001b[0;34m,\u001b[0m \u001b[0mretain_graph\u001b[0m\u001b[0;34m,\u001b[0m \u001b[0mcreate_graph\u001b[0m\u001b[0;34m,\u001b[0m\u001b[0;34m\u001b[0m\u001b[0m\n\u001b[0;32m---> 89\u001b[0;31m         allow_unreachable=True)  # allow_unreachable flag\n\u001b[0m\u001b[1;32m     90\u001b[0m \u001b[0;34m\u001b[0m\u001b[0m\n\u001b[1;32m     91\u001b[0m \u001b[0;34m\u001b[0m\u001b[0m\n",
      "\u001b[0;31mKeyboardInterrupt\u001b[0m: "
     ]
    }
   ],
   "source": [
    "model = Net().to(device)\n",
    "model.show((1,1,in_size,in_size))\n",
    "\n",
    "optimizer = optim.SGD(model.parameters(), lr=lr, momentum=momentum)\n",
    "criterion = nn.CrossEntropyLoss()\n",
    "\n",
    "print(\"===TRAINING===\")\n",
    "for epoch in range(0, epochs + 1):\n",
    "    train_losses+=train(model,device, train_loader, criterion, optimizer, epoch)\n",
    "    test_losses.append(test(model,device,test_loader,epoch))"
   ]
  },
  {
   "cell_type": "markdown",
   "metadata": {},
   "source": [
    "# Evaluate\n",
    "### Torch"
   ]
  },
  {
   "cell_type": "code",
   "execution_count": 15,
   "metadata": {},
   "outputs": [
    {
     "data": {
      "image/png": "[encoded data removed]",
      "text/plain": [
       "<Figure size 432x288 with 1 Axes>"
      ]
     },
     "metadata": {},
     "output_type": "display_data"
    },
    {
     "data": {
      "image/png": "[encoded data removed]",
      "text/plain": [
       "<Figure size 432x288 with 1 Axes>"
      ]
     },
     "metadata": {},
     "output_type": "display_data"
    }
   ],
   "source": [
    "plt.plot(np.arange(len(train_loader)*(epochs+1)),train_losses,label=\"Train Loss\")\n",
    "plt.legend()\n",
    "plt.show()\n",
    "plt.plot(np.arange(epochs+1)*len(train_loader),test_losses,label=\"Test Accuracy\")\n",
    "plt.legend()\n",
    "plt.show()"
   ]
  },
  {
   "cell_type": "code",
   "execution_count": null,
   "metadata": {},
   "outputs": [],
   "source": []
  }
 ],
 "metadata": {
  "kernelspec": {
   "display_name": "Python 3",
   "language": "python",
   "name": "python3"
  },
  "language_info": {
   "codemirror_mode": {
    "name": "ipython",
    "version": 3
   },
   "file_extension": ".py",
   "mimetype": "text/x-python",
   "name": "python",
   "nbconvert_exporter": "python",
   "pygments_lexer": "ipython3",
   "version": "3.6.4"
  }
 },
 "nbformat": 4,
 "nbformat_minor": 2
}
